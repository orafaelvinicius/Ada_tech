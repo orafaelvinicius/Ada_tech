{
 "cells": [
  {
   "cell_type": "markdown",
   "metadata": {},
   "source": [
    "## Projeto\n",
    "  \n",
    "O projeto desde módulo será uma aplicação prática do conteúdo de Técnicas de Programação I no python.  \n",
    "  \n",
    "**Objetivo**  \n",
    "Realizar um EDA (Exploratory Data Analysis) com os conhecimentos obtidos até o momento (Pandas e Numpy). \n",
    "  \n",
    "**Base de Dados**  \n",
    "Cada grupo será responsável por buscar uma base de dados de seu interesse  \n",
    "Dica: [Kaggle](https://www.kaggle.com/datasets)\n",
    "  \n",
    "**Composição dos grupos**  \n",
    "Os grupos foram formados aleatoriamente tendo entre 4 e 5 integrantes.\n",
    "  \n",
    "**Github**  \n",
    "Na mesma planilha de composição dos grupos insiram o link para o github de pelo menos um dos integrantes no qual o projeto será armazenado.  \n",
    "  \n",
    "**Apresentação**  \n",
    "A apresentação poderá ser construída no formato de preferência (jupyter notebook, power point..)  \n",
    "  \n",
    "**Tempo de apresentação**  \n",
    "Cada grupo terá no máximo 10 minutos para apresentar o EDA  \n",
    "  \n",
    "**Avaliação**  \n",
    "Para a avaliação serão considerados os seguintes pontos\n",
    "1. Explicação e entendimento do contexto em que se encaixa a base de dados\n",
    "2. Uso dos conhecimentos obtidos no decorrer do módulo\n",
    "3. Apresentação das características do conjunto de dados fornecido, destacando sua visão geral acerca do conjunto de dados e tecendo críticas e comentários \n",
    "4. Identificação e discussão de missings ou outliers na base de dados\n",
    "5. Outras análises que sejam pertinentes \n",
    "  \n",
    "**Data de apresentação**  \n",
    "24/01/2021  \n",
    "  \n",
    "**Obs. 1**: Não esqueçam de considerar se as informações são públicas  \n",
    "**Obs. 2**: É obrigatório que todos apresentem, portanto organizem-se com o tempo  \n",
    "**Obs. 3**: Não esqueçam de se divertirem fazendo isso! :D  \n",
    "  \n",
    "**BOM TRABALHO!**"
   ]
  },
  {
   "cell_type": "markdown",
   "metadata": {},
   "source": [
    "# Entendendo o contexto\n",
    "\n",
    "Tendo em vista a crescente demanda por profissionais de Ciência de Dados, a empresa de RH *DataJobis* foi contratada para obter informações sobre tendências salariais, variação entre regiões e outros fatores que possam influenciar na remuneração do cargo. \n",
    "\n",
    "O objetivo é a seleção de funcionários para contratação das empresas solicitantes, a fim de delimitar a região onde se encontram cientistas de dados com o melhor custo-benefício, considerando o nível de experiência e o valor do salário.\n",
    "\n",
    "Para realizar essa análise, foi utilizada uma base de dados contendo os salários destes profissionais no período de 2020 a 2024. \n",
    "Os dados utilizados estão disponibilizados na plataforma [Kaggle](https://www.kaggle.com/) e foram coletados pelo analista [Sazidul Islã](https://www.linkedin.com/in/sazidulislam/) na plataforma [ai-jobs.net](https://ai-jobs.net/) que é uma das principais fonte de empregos e talentos em IA, ML, ciência de dados e Big Data."
   ]
  },
  {
   "cell_type": "markdown",
   "metadata": {},
   "source": [
    "## Características da base de dados\n",
    "\n",
    "Nesta etapa, vamos realizar a configuração do ambiente e a leitura dos dados, apreendendo suas caracteristiscas e informações.\n",
    "\n",
    "\n",
    "*Dataset* utilizado em csv: https://www.kaggle.com/datasets/sazidthe1/data-science-salaries"
   ]
  },
  {
   "cell_type": "markdown",
   "metadata": {},
   "source": [
    "### **1. Configuração de ambiente e carregamento dos dados**\n",
    "1.1. Caso as bibliotecas *Pandas, Matplotlib, Seaborn* não estejam incluídas na distribuição padrão do Python ou não estejam instaladas localmente, executar a célula abaixo. Caso contrário, seguir para a segunda célula de código com a importação. "
   ]
  },
  {
   "cell_type": "code",
   "execution_count": null,
   "metadata": {},
   "outputs": [],
   "source": [
    "import subprocess\n",
    "\n",
    "requirements_path = '../Projeto/dados/requirements.txt'\n",
    "\n",
    "# # # Leitura do arquivo requirements.txt\n",
    "with open('../Projeto/dados/requirements.txt', 'r') as file:\n",
    "    linhas = file.readlines()\n",
    "\n",
    "# # # Instalação das dependências\n",
    "for linha in linhas:\n",
    "    pacote = linha.strip()\n",
    "    subprocess.run(['pip', 'install', pacote])\n",
    "\n",
    "print(\"Dependências instaladas com sucesso!\")"
   ]
  },
  {
   "cell_type": "code",
   "execution_count": 2,
   "metadata": {},
   "outputs": [],
   "source": [
    "#Importar as bibliotecas necessárias\n",
    "import pandas as pd\n",
    "import numpy as np\n",
    "import matplotlib.pyplot as plt\n",
    "import seaborn as sns"
   ]
  },
  {
   "cell_type": "markdown",
   "metadata": {},
   "source": [
    "1.2. Carregar o *dataset* e usar `df.head()` para visualizar o cabeçalho e as primeiras linhas.\n"
   ]
  },
  {
   "cell_type": "code",
   "execution_count": 3,
   "metadata": {},
   "outputs": [
    {
     "data": {
      "text/html": [
       "<div>\n",
       "<style scoped>\n",
       "    .dataframe tbody tr th:only-of-type {\n",
       "        vertical-align: middle;\n",
       "    }\n",
       "\n",
       "    .dataframe tbody tr th {\n",
       "        vertical-align: top;\n",
       "    }\n",
       "\n",
       "    .dataframe thead th {\n",
       "        text-align: right;\n",
       "    }\n",
       "</style>\n",
       "<table border=\"1\" class=\"dataframe\">\n",
       "  <thead>\n",
       "    <tr style=\"text-align: right;\">\n",
       "      <th></th>\n",
       "      <th>job_title</th>\n",
       "      <th>experience_level</th>\n",
       "      <th>employment_type</th>\n",
       "      <th>work_models</th>\n",
       "      <th>work_year</th>\n",
       "      <th>employee_residence</th>\n",
       "      <th>salary</th>\n",
       "      <th>salary_currency</th>\n",
       "      <th>salary_in_usd</th>\n",
       "      <th>company_location</th>\n",
       "      <th>company_size</th>\n",
       "    </tr>\n",
       "  </thead>\n",
       "  <tbody>\n",
       "    <tr>\n",
       "      <th>0</th>\n",
       "      <td>Data Engineer</td>\n",
       "      <td>Mid-level</td>\n",
       "      <td>Full-time</td>\n",
       "      <td>Remote</td>\n",
       "      <td>2024</td>\n",
       "      <td>United States</td>\n",
       "      <td>148100</td>\n",
       "      <td>USD</td>\n",
       "      <td>148100</td>\n",
       "      <td>United States</td>\n",
       "      <td>Medium</td>\n",
       "    </tr>\n",
       "    <tr>\n",
       "      <th>1</th>\n",
       "      <td>Data Engineer</td>\n",
       "      <td>Mid-level</td>\n",
       "      <td>Full-time</td>\n",
       "      <td>Remote</td>\n",
       "      <td>2024</td>\n",
       "      <td>United States</td>\n",
       "      <td>98700</td>\n",
       "      <td>USD</td>\n",
       "      <td>98700</td>\n",
       "      <td>United States</td>\n",
       "      <td>Medium</td>\n",
       "    </tr>\n",
       "    <tr>\n",
       "      <th>2</th>\n",
       "      <td>Data Scientist</td>\n",
       "      <td>Senior-level</td>\n",
       "      <td>Full-time</td>\n",
       "      <td>Remote</td>\n",
       "      <td>2024</td>\n",
       "      <td>United States</td>\n",
       "      <td>140032</td>\n",
       "      <td>USD</td>\n",
       "      <td>140032</td>\n",
       "      <td>United States</td>\n",
       "      <td>Medium</td>\n",
       "    </tr>\n",
       "    <tr>\n",
       "      <th>3</th>\n",
       "      <td>Data Scientist</td>\n",
       "      <td>Senior-level</td>\n",
       "      <td>Full-time</td>\n",
       "      <td>Remote</td>\n",
       "      <td>2024</td>\n",
       "      <td>United States</td>\n",
       "      <td>100022</td>\n",
       "      <td>USD</td>\n",
       "      <td>100022</td>\n",
       "      <td>United States</td>\n",
       "      <td>Medium</td>\n",
       "    </tr>\n",
       "    <tr>\n",
       "      <th>4</th>\n",
       "      <td>BI Developer</td>\n",
       "      <td>Mid-level</td>\n",
       "      <td>Full-time</td>\n",
       "      <td>On-site</td>\n",
       "      <td>2024</td>\n",
       "      <td>United States</td>\n",
       "      <td>120000</td>\n",
       "      <td>USD</td>\n",
       "      <td>120000</td>\n",
       "      <td>United States</td>\n",
       "      <td>Medium</td>\n",
       "    </tr>\n",
       "  </tbody>\n",
       "</table>\n",
       "</div>"
      ],
      "text/plain": [
       "        job_title experience_level employment_type work_models  work_year  \\\n",
       "0   Data Engineer        Mid-level       Full-time      Remote       2024   \n",
       "1   Data Engineer        Mid-level       Full-time      Remote       2024   \n",
       "2  Data Scientist     Senior-level       Full-time      Remote       2024   \n",
       "3  Data Scientist     Senior-level       Full-time      Remote       2024   \n",
       "4    BI Developer        Mid-level       Full-time     On-site       2024   \n",
       "\n",
       "  employee_residence  salary salary_currency  salary_in_usd company_location  \\\n",
       "0      United States  148100             USD         148100    United States   \n",
       "1      United States   98700             USD          98700    United States   \n",
       "2      United States  140032             USD         140032    United States   \n",
       "3      United States  100022             USD         100022    United States   \n",
       "4      United States  120000             USD         120000    United States   \n",
       "\n",
       "  company_size  \n",
       "0       Medium  \n",
       "1       Medium  \n",
       "2       Medium  \n",
       "3       Medium  \n",
       "4       Medium  "
      ]
     },
     "execution_count": 3,
     "metadata": {},
     "output_type": "execute_result"
    }
   ],
   "source": [
    "df = pd.read_csv('../Projeto/dados/data_science_salaries.csv')\n",
    "df.head()"
   ]
  },
  {
   "cell_type": "markdown",
   "metadata": {},
   "source": [
    "1.3. Verificar a dimensão do dataset com `df.info()`.\n",
    "\n",
    "O método mostra informações como número de entradas não nulas, tipos de dados e uso da memória do DataFrame (instância da classe DataFrame do Pandas)."
   ]
  },
  {
   "cell_type": "code",
   "execution_count": 4,
   "metadata": {},
   "outputs": [
    {
     "name": "stdout",
     "output_type": "stream",
     "text": [
      "<class 'pandas.core.frame.DataFrame'>\n",
      "RangeIndex: 11087 entries, 0 to 11086\n",
      "Data columns (total 11 columns):\n",
      " #   Column              Non-Null Count  Dtype \n",
      "---  ------              --------------  ----- \n",
      " 0   job_title           11087 non-null  object\n",
      " 1   experience_level    11087 non-null  object\n",
      " 2   employment_type     11087 non-null  object\n",
      " 3   work_models         11087 non-null  object\n",
      " 4   work_year           11087 non-null  int64 \n",
      " 5   employee_residence  11087 non-null  object\n",
      " 6   salary              11087 non-null  int64 \n",
      " 7   salary_currency     11087 non-null  object\n",
      " 8   salary_in_usd       11087 non-null  int64 \n",
      " 9   company_location    11087 non-null  object\n",
      " 10  company_size        11087 non-null  object\n",
      "dtypes: int64(3), object(8)\n",
      "memory usage: 952.9+ KB\n"
     ]
    }
   ],
   "source": [
    "df.info()"
   ]
  },
  {
   "cell_type": "code",
   "execution_count": 5,
   "metadata": {},
   "outputs": [
    {
     "data": {
      "text/plain": [
       "11087"
      ]
     },
     "execution_count": 5,
     "metadata": {},
     "output_type": "execute_result"
    }
   ],
   "source": [
    "# Contando linhas\n",
    "len(df)"
   ]
  },
  {
   "cell_type": "markdown",
   "metadata": {},
   "source": [
    "Com base na saída do método `info()` e no total do número de linhas, não há valores nulos (ausentes) nas colunas do DataFrame, já que todas as contagens de valores não nulos são iguais ao número total de entradas (11087). "
   ]
  },
  {
   "cell_type": "markdown",
   "metadata": {},
   "source": [
    "### Dicionário dos dados\n",
    "\n",
    "Documentação da estrutura e significado das informações contidas em cada coluna (ou variável).\n",
    "\n",
    "| Nome da coluna       | Descrição                                                   |\n",
    "|-----------------------|-------------------------------------------------------------|\n",
    "| job_title             | O cargo ou função associada ao salário informado.            |\n",
    "| experience_level      | O nível de experiência do indivíduo.                         |\n",
    "| employment_type       | Indica se o emprego é a tempo inteiro, a tempo parcial, etc. |\n",
    "| work_models           | Descreve diferentes modelos de trabalho (remoto, presencial, híbrido). |\n",
    "| work_year             | O ano específico em que as informações salariais foram registradas. |\n",
    "| employee_residence    | O local de residência do funcionário.                        |\n",
    "| salary                | O salário informado na moeda original.                       |\n",
    "| salary_currency       | A moeda em que o salário é denominado.                       |\n",
    "| salary_in_usd         | O salário convertido em dólares americanos.                  |\n",
    "| company_location      | A localização geográfica da organização empregadora.         |\n",
    "| company_size          | O tamanho da empresa, categorizado pelo número de funcionários. |\n"
   ]
  },
  {
   "cell_type": "markdown",
   "metadata": {},
   "source": [
    "Com base na estrutura acima, vamos às análises."
   ]
  },
  {
   "cell_type": "markdown",
   "metadata": {},
   "source": [
    "### **2. Limpeza de Dados**\n",
    "Verificar e tratar valores ausentes (NaN) com `df.isnull().sum()` e `df.dropna()` ou `df.fillna()`.\n",
    "\n",
    "O método `dropna()` é usado para remover linhas com valores ausentes e `fillna(0)` para preencher valores ausentes com zero.\n",
    "\n"
   ]
  },
  {
   "cell_type": "code",
   "execution_count": 6,
   "metadata": {},
   "outputs": [
    {
     "data": {
      "text/plain": [
       "job_title             0\n",
       "experience_level      0\n",
       "employment_type       0\n",
       "work_models           0\n",
       "work_year             0\n",
       "employee_residence    0\n",
       "salary                0\n",
       "salary_currency       0\n",
       "salary_in_usd         0\n",
       "company_location      0\n",
       "company_size          0\n",
       "dtype: int64"
      ]
     },
     "execution_count": 6,
     "metadata": {},
     "output_type": "execute_result"
    }
   ],
   "source": [
    "df.isnull().sum()"
   ]
  },
  {
   "cell_type": "markdown",
   "metadata": {},
   "source": [
    "### **3.Análise Exploratória Básica**\n",
    "\n",
    "Explorar a distribuição de variáveis-chave (salário, experiência, etc.).\n",
    "\n",
    "3.1. Por meio do método `value_counts()`, verifica-se que existem 132 cargos únicos na variável 'job_title'\n"
   ]
  },
  {
   "cell_type": "code",
   "execution_count": 7,
   "metadata": {},
   "outputs": [
    {
     "data": {
      "text/plain": [
       "job_title\n",
       "Data Engineer                2506\n",
       "Data Scientist               2294\n",
       "Data Analyst                 1650\n",
       "Machine Learning Engineer    1166\n",
       "Research Scientist            345\n",
       "                             ... \n",
       "Consultant Data Engineer        1\n",
       "Deep Learning Researcher        1\n",
       "Power BI Developer              1\n",
       "BI Data Engineer                1\n",
       "Sales Data Analyst              1\n",
       "Name: count, Length: 132, dtype: int64"
      ]
     },
     "execution_count": 7,
     "metadata": {},
     "output_type": "execute_result"
    }
   ],
   "source": [
    "df['job_title'].value_counts()"
   ]
  },
  {
   "cell_type": "markdown",
   "metadata": {},
   "source": [
    "3.2. Estatísticas descritivas e recorte com base no 'job_title' \n",
    "Método `describe()`e 'Data Scientist'"
   ]
  },
  {
   "cell_type": "code",
   "execution_count": 8,
   "metadata": {},
   "outputs": [
    {
     "data": {
      "text/html": [
       "<div>\n",
       "<style scoped>\n",
       "    .dataframe tbody tr th:only-of-type {\n",
       "        vertical-align: middle;\n",
       "    }\n",
       "\n",
       "    .dataframe tbody tr th {\n",
       "        vertical-align: top;\n",
       "    }\n",
       "\n",
       "    .dataframe thead th {\n",
       "        text-align: right;\n",
       "    }\n",
       "</style>\n",
       "<table border=\"1\" class=\"dataframe\">\n",
       "  <thead>\n",
       "    <tr style=\"text-align: right;\">\n",
       "      <th></th>\n",
       "      <th>work_year</th>\n",
       "      <th>salary</th>\n",
       "      <th>salary_in_usd</th>\n",
       "    </tr>\n",
       "  </thead>\n",
       "  <tbody>\n",
       "    <tr>\n",
       "      <th>count</th>\n",
       "      <td>2294.000000</td>\n",
       "      <td>2.294000e+03</td>\n",
       "      <td>2294.000000</td>\n",
       "    </tr>\n",
       "    <tr>\n",
       "      <th>mean</th>\n",
       "      <td>2022.812990</td>\n",
       "      <td>1.895936e+05</td>\n",
       "      <td>155363.591107</td>\n",
       "    </tr>\n",
       "    <tr>\n",
       "      <th>std</th>\n",
       "      <td>0.587251</td>\n",
       "      <td>7.087949e+05</td>\n",
       "      <td>62286.805481</td>\n",
       "    </tr>\n",
       "    <tr>\n",
       "      <th>min</th>\n",
       "      <td>2020.000000</td>\n",
       "      <td>1.600000e+04</td>\n",
       "      <td>16000.000000</td>\n",
       "    </tr>\n",
       "    <tr>\n",
       "      <th>25%</th>\n",
       "      <td>2023.000000</td>\n",
       "      <td>1.200000e+05</td>\n",
       "      <td>119094.250000</td>\n",
       "    </tr>\n",
       "    <tr>\n",
       "      <th>50%</th>\n",
       "      <td>2023.000000</td>\n",
       "      <td>1.540000e+05</td>\n",
       "      <td>153000.000000</td>\n",
       "    </tr>\n",
       "    <tr>\n",
       "      <th>75%</th>\n",
       "      <td>2023.000000</td>\n",
       "      <td>1.901500e+05</td>\n",
       "      <td>190000.000000</td>\n",
       "    </tr>\n",
       "    <tr>\n",
       "      <th>max</th>\n",
       "      <td>2024.000000</td>\n",
       "      <td>3.040000e+07</td>\n",
       "      <td>750000.000000</td>\n",
       "    </tr>\n",
       "  </tbody>\n",
       "</table>\n",
       "</div>"
      ],
      "text/plain": [
       "         work_year        salary  salary_in_usd\n",
       "count  2294.000000  2.294000e+03    2294.000000\n",
       "mean   2022.812990  1.895936e+05  155363.591107\n",
       "std       0.587251  7.087949e+05   62286.805481\n",
       "min    2020.000000  1.600000e+04   16000.000000\n",
       "25%    2023.000000  1.200000e+05  119094.250000\n",
       "50%    2023.000000  1.540000e+05  153000.000000\n",
       "75%    2023.000000  1.901500e+05  190000.000000\n",
       "max    2024.000000  3.040000e+07  750000.000000"
      ]
     },
     "execution_count": 8,
     "metadata": {},
     "output_type": "execute_result"
    }
   ],
   "source": [
    "df_data_scientist = df[df['job_title'] == 'Data Scientist']\n",
    "df_data_scientist.describe()"
   ]
  },
  {
   "cell_type": "markdown",
   "metadata": {},
   "source": [
    "### Describe():\n",
    "\n",
    "Contagem (count): Número de observações não nulas.\n",
    "\n",
    "Média (mean): Média aritmética dos valores.\n",
    "\n",
    "Desvio Padrão (std): Desvio padrão, que mede a dispersão dos valores em relação à média.\n",
    "\n",
    "Valor Mínimo (min): O valor mínimo na coluna.\n",
    "\n",
    "25º Percentil (25%): Primeiro quartil, indica o valor abaixo do qual 25% dos dados estão.\n",
    "\n",
    "50º Percentil (50%): Mediana ou segundo quartil, o valor abaixo do qual 50% dos dados estão.\n",
    "\n",
    "75º Percentil (75%): Terceiro quartil, o valor abaixo do qual 75% dos dados estão.\n",
    "\n",
    "Valor Máximo (max): O valor máximo na coluna.\n",
    "\n",
    "Desvio padrão: medida relativa, considerado de acordo com a média. Se o desvio padrão é significativamente menor que a média, pode ser considerado baixo. Se for significativamente maior, pode ser considerado alto. Essa avaliação também pode variar de acordo com o contexto. "
   ]
  },
  {
   "cell_type": "markdown",
   "metadata": {},
   "source": [
    "3.3. `shape()`: dimensão número de linhas e colunas com base no contexto/recorte"
   ]
  },
  {
   "cell_type": "code",
   "execution_count": 9,
   "metadata": {},
   "outputs": [
    {
     "data": {
      "text/plain": [
       "(2294, 11)"
      ]
     },
     "execution_count": 9,
     "metadata": {},
     "output_type": "execute_result"
    }
   ],
   "source": [
    "df_data_scientist.shape"
   ]
  },
  {
   "cell_type": "markdown",
   "metadata": {},
   "source": [
    "### **4. Identificação e Tratamento de Outliers**\n",
    "\n",
    "Identificar *outliers* visualmente com boxplots utilizando funcionalidades de plotagem fornecidas pela biblioteca Pandas.\n",
    "\n",
    "\n",
    "Os boxplots ou Diagramas de caixa representam graficamente a comparação entre variáveis ou entre níveis de uma variável categórica.\n",
    "A caixa mostra os quartis comparados ao restante da distribuição.\n",
    "\n",
    "<a title=\"RobSeb, CC BY-SA 3.0 &lt;https://creativecommons.org/licenses/by-sa/3.0&gt;, via Wikimedia Commons\" href=\"https://commons.wikimedia.org/wiki/File:Elements_of_a_boxplot.svg\"><img width=\"256\" alt=\"Elements of a boxplot\" src=\"https://upload.wikimedia.org/wikipedia/commons/thumb/b/b1/Elements_of_a_boxplot.svg/256px-Elements_of_a_boxplot.svg.png\"></a>\n",
    "\n",
    "Fonte: \n",
    "https://commons.wikimedia.org/wiki/File:Elements_of_a_boxplot.svg\n",
    "\n",
    "\n",
    "Tratar outliers, se necessário, usando técnicas como a regra do IQR ou transformações."
   ]
  },
  {
   "cell_type": "markdown",
   "metadata": {},
   "source": [
    "###  4.1. IQR"
   ]
  },
  {
   "cell_type": "code",
   "execution_count": 10,
   "metadata": {},
   "outputs": [
    {
     "data": {
      "text/plain": [
       "70905.75"
      ]
     },
     "execution_count": 10,
     "metadata": {},
     "output_type": "execute_result"
    },
    {
     "data": {
      "image/png": "[encoded data removed]",
      "text/plain": [
       "<Figure size 640x480 with 1 Axes>"
      ]
     },
     "metadata": {},
     "output_type": "display_data"
    }
   ],
   "source": [
    "# O IQR de salary_in_usd será de Q3 - Q1 = 70905.75\n",
    "df_data_scientist[['salary_in_usd']].plot(kind='box');\n",
    "\n",
    "q1_salary = np.percentile(df_data_scientist['salary_in_usd'], 25)\n",
    "q3_salary = np.percentile(df_data_scientist['salary_in_usd'], 75)\n",
    "iqr_salary = q3_salary - q1_salary\n",
    "iqr_salary\n"
   ]
  },
  {
   "cell_type": "code",
   "execution_count": 11,
   "metadata": {},
   "outputs": [
    {
     "data": {
      "text/plain": [
       "12735.625"
      ]
     },
     "execution_count": 11,
     "metadata": {},
     "output_type": "execute_result"
    }
   ],
   "source": [
    "# Mínimo esperado\n",
    "q1_salary - (iqr_salary * 1.5) "
   ]
  },
  {
   "cell_type": "code",
   "execution_count": 12,
   "metadata": {},
   "outputs": [
    {
     "data": {
      "text/plain": [
       "296358.625"
      ]
     },
     "execution_count": 12,
     "metadata": {},
     "output_type": "execute_result"
    }
   ],
   "source": [
    "# Máximo esperado\n",
    "q3_salary + (iqr_salary * 1.5) "
   ]
  },
  {
   "cell_type": "markdown",
   "metadata": {},
   "source": [
    "Neste caso, vamos identificar os outliers onde qualquer dado que estiver fora de Q3+1.5*IQR ou Q1-1.5*IQR será considerado um *outlier*.\n",
    "\n",
    "**Minimo = 12735.625**\n",
    "\n",
    "**Máximo = 296358.625**"
   ]
  },
  {
   "cell_type": "markdown",
   "metadata": {},
   "source": [
    "### 4.2. Identificando e retirando os outliers query"
   ]
  },
  {
   "cell_type": "code",
   "execution_count": 13,
   "metadata": {},
   "outputs": [
    {
     "data": {
      "text/html": [
       "<div>\n",
       "<style scoped>\n",
       "    .dataframe tbody tr th:only-of-type {\n",
       "        vertical-align: middle;\n",
       "    }\n",
       "\n",
       "    .dataframe tbody tr th {\n",
       "        vertical-align: top;\n",
       "    }\n",
       "\n",
       "    .dataframe thead th {\n",
       "        text-align: right;\n",
       "    }\n",
       "</style>\n",
       "<table border=\"1\" class=\"dataframe\">\n",
       "  <thead>\n",
       "    <tr style=\"text-align: right;\">\n",
       "      <th></th>\n",
       "      <th>job_title</th>\n",
       "      <th>experience_level</th>\n",
       "      <th>employment_type</th>\n",
       "      <th>work_models</th>\n",
       "      <th>work_year</th>\n",
       "      <th>employee_residence</th>\n",
       "      <th>salary</th>\n",
       "      <th>salary_currency</th>\n",
       "      <th>salary_in_usd</th>\n",
       "      <th>company_location</th>\n",
       "      <th>company_size</th>\n",
       "    </tr>\n",
       "  </thead>\n",
       "  <tbody>\n",
       "    <tr>\n",
       "      <th>2</th>\n",
       "      <td>Data Scientist</td>\n",
       "      <td>Senior-level</td>\n",
       "      <td>Full-time</td>\n",
       "      <td>Remote</td>\n",
       "      <td>2024</td>\n",
       "      <td>United States</td>\n",
       "      <td>140032</td>\n",
       "      <td>USD</td>\n",
       "      <td>140032</td>\n",
       "      <td>United States</td>\n",
       "      <td>Medium</td>\n",
       "    </tr>\n",
       "    <tr>\n",
       "      <th>3</th>\n",
       "      <td>Data Scientist</td>\n",
       "      <td>Senior-level</td>\n",
       "      <td>Full-time</td>\n",
       "      <td>Remote</td>\n",
       "      <td>2024</td>\n",
       "      <td>United States</td>\n",
       "      <td>100022</td>\n",
       "      <td>USD</td>\n",
       "      <td>100022</td>\n",
       "      <td>United States</td>\n",
       "      <td>Medium</td>\n",
       "    </tr>\n",
       "    <tr>\n",
       "      <th>12</th>\n",
       "      <td>Data Scientist</td>\n",
       "      <td>Mid-level</td>\n",
       "      <td>Full-time</td>\n",
       "      <td>Remote</td>\n",
       "      <td>2024</td>\n",
       "      <td>United States</td>\n",
       "      <td>148100</td>\n",
       "      <td>USD</td>\n",
       "      <td>148100</td>\n",
       "      <td>United States</td>\n",
       "      <td>Medium</td>\n",
       "    </tr>\n",
       "    <tr>\n",
       "      <th>13</th>\n",
       "      <td>Data Scientist</td>\n",
       "      <td>Mid-level</td>\n",
       "      <td>Full-time</td>\n",
       "      <td>Remote</td>\n",
       "      <td>2024</td>\n",
       "      <td>United States</td>\n",
       "      <td>98700</td>\n",
       "      <td>USD</td>\n",
       "      <td>98700</td>\n",
       "      <td>United States</td>\n",
       "      <td>Medium</td>\n",
       "    </tr>\n",
       "    <tr>\n",
       "      <th>16</th>\n",
       "      <td>Data Scientist</td>\n",
       "      <td>Mid-level</td>\n",
       "      <td>Full-time</td>\n",
       "      <td>On-site</td>\n",
       "      <td>2024</td>\n",
       "      <td>United States</td>\n",
       "      <td>85000</td>\n",
       "      <td>USD</td>\n",
       "      <td>85000</td>\n",
       "      <td>United States</td>\n",
       "      <td>Medium</td>\n",
       "    </tr>\n",
       "    <tr>\n",
       "      <th>...</th>\n",
       "      <td>...</td>\n",
       "      <td>...</td>\n",
       "      <td>...</td>\n",
       "      <td>...</td>\n",
       "      <td>...</td>\n",
       "      <td>...</td>\n",
       "      <td>...</td>\n",
       "      <td>...</td>\n",
       "      <td>...</td>\n",
       "      <td>...</td>\n",
       "      <td>...</td>\n",
       "    </tr>\n",
       "    <tr>\n",
       "      <th>11072</th>\n",
       "      <td>Data Scientist</td>\n",
       "      <td>Mid-level</td>\n",
       "      <td>Full-time</td>\n",
       "      <td>Remote</td>\n",
       "      <td>2020</td>\n",
       "      <td>Spain</td>\n",
       "      <td>34000</td>\n",
       "      <td>EUR</td>\n",
       "      <td>38776</td>\n",
       "      <td>Spain</td>\n",
       "      <td>Medium</td>\n",
       "    </tr>\n",
       "    <tr>\n",
       "      <th>11075</th>\n",
       "      <td>Data Scientist</td>\n",
       "      <td>Entry-level</td>\n",
       "      <td>Full-time</td>\n",
       "      <td>On-site</td>\n",
       "      <td>2020</td>\n",
       "      <td>Germany</td>\n",
       "      <td>43200</td>\n",
       "      <td>EUR</td>\n",
       "      <td>49268</td>\n",
       "      <td>Germany</td>\n",
       "      <td>Small</td>\n",
       "    </tr>\n",
       "    <tr>\n",
       "      <th>11079</th>\n",
       "      <td>Data Scientist</td>\n",
       "      <td>Mid-level</td>\n",
       "      <td>Full-time</td>\n",
       "      <td>On-site</td>\n",
       "      <td>2020</td>\n",
       "      <td>Germany</td>\n",
       "      <td>70000</td>\n",
       "      <td>EUR</td>\n",
       "      <td>79833</td>\n",
       "      <td>Germany</td>\n",
       "      <td>Large</td>\n",
       "    </tr>\n",
       "    <tr>\n",
       "      <th>11080</th>\n",
       "      <td>Data Scientist</td>\n",
       "      <td>Entry-level</td>\n",
       "      <td>Full-time</td>\n",
       "      <td>Hybrid</td>\n",
       "      <td>2020</td>\n",
       "      <td>Germany</td>\n",
       "      <td>55000</td>\n",
       "      <td>EUR</td>\n",
       "      <td>62726</td>\n",
       "      <td>Germany</td>\n",
       "      <td>Small</td>\n",
       "    </tr>\n",
       "    <tr>\n",
       "      <th>11086</th>\n",
       "      <td>Data Scientist</td>\n",
       "      <td>Senior-level</td>\n",
       "      <td>Full-time</td>\n",
       "      <td>On-site</td>\n",
       "      <td>2020</td>\n",
       "      <td>Austria</td>\n",
       "      <td>80000</td>\n",
       "      <td>EUR</td>\n",
       "      <td>91237</td>\n",
       "      <td>Austria</td>\n",
       "      <td>Small</td>\n",
       "    </tr>\n",
       "  </tbody>\n",
       "</table>\n",
       "<p>2239 rows × 11 columns</p>\n",
       "</div>"
      ],
      "text/plain": [
       "            job_title experience_level employment_type work_models  work_year  \\\n",
       "2      Data Scientist     Senior-level       Full-time      Remote       2024   \n",
       "3      Data Scientist     Senior-level       Full-time      Remote       2024   \n",
       "12     Data Scientist        Mid-level       Full-time      Remote       2024   \n",
       "13     Data Scientist        Mid-level       Full-time      Remote       2024   \n",
       "16     Data Scientist        Mid-level       Full-time     On-site       2024   \n",
       "...               ...              ...             ...         ...        ...   \n",
       "11072  Data Scientist        Mid-level       Full-time      Remote       2020   \n",
       "11075  Data Scientist      Entry-level       Full-time     On-site       2020   \n",
       "11079  Data Scientist        Mid-level       Full-time     On-site       2020   \n",
       "11080  Data Scientist      Entry-level       Full-time      Hybrid       2020   \n",
       "11086  Data Scientist     Senior-level       Full-time     On-site       2020   \n",
       "\n",
       "      employee_residence  salary salary_currency  salary_in_usd  \\\n",
       "2          United States  140032             USD         140032   \n",
       "3          United States  100022             USD         100022   \n",
       "12         United States  148100             USD         148100   \n",
       "13         United States   98700             USD          98700   \n",
       "16         United States   85000             USD          85000   \n",
       "...                  ...     ...             ...            ...   \n",
       "11072              Spain   34000             EUR          38776   \n",
       "11075            Germany   43200             EUR          49268   \n",
       "11079            Germany   70000             EUR          79833   \n",
       "11080            Germany   55000             EUR          62726   \n",
       "11086            Austria   80000             EUR          91237   \n",
       "\n",
       "      company_location company_size  \n",
       "2        United States       Medium  \n",
       "3        United States       Medium  \n",
       "12       United States       Medium  \n",
       "13       United States       Medium  \n",
       "16       United States       Medium  \n",
       "...                ...          ...  \n",
       "11072            Spain       Medium  \n",
       "11075          Germany        Small  \n",
       "11079          Germany        Large  \n",
       "11080          Germany        Small  \n",
       "11086          Austria        Small  \n",
       "\n",
       "[2239 rows x 11 columns]"
      ]
     },
     "execution_count": 13,
     "metadata": {},
     "output_type": "execute_result"
    }
   ],
   "source": [
    "df_sem_outliers = df_data_scientist[(df_data_scientist['salary_in_usd'] <= 296358) & (df_data_scientist['salary_in_usd'] >= 12735)]\n",
    "df_sem_outliers\n"
   ]
  },
  {
   "cell_type": "markdown",
   "metadata": {},
   "source": [
    "### 4.3. Tipos de modelo de trabalho\n",
    "Nesta fase vamos procurar a maior quantidade de pessoas em um modelo de trabalho para identificarmos onde estão nossas oportunidades de contratação"
   ]
  },
  {
   "cell_type": "code",
   "execution_count": 14,
   "metadata": {},
   "outputs": [
    {
     "data": {
      "text/plain": [
       "employment_type\n",
       "Full-time    99.732023\n",
       "Part-time     0.223314\n",
       "Freelance     0.044663\n",
       "Name: count, dtype: float64"
      ]
     },
     "execution_count": 14,
     "metadata": {},
     "output_type": "execute_result"
    }
   ],
   "source": [
    "# Identificando a porcentagem\n",
    "df_sem_outliers['employment_type'].value_counts() / len(df_sem_outliers) * 100"
   ]
  },
  {
   "cell_type": "markdown",
   "metadata": {},
   "source": [
    "### 5. Análise de Dados Categóricos\n",
    "\n",
    "\n",
    "Explorar dados categóricos (tipo de emprego, localização, etc).\n",
    "\n",
    "Verificar a distribuição de categorias especificando os dados que queremos analisar. "
   ]
  },
  {
   "cell_type": "markdown",
   "metadata": {},
   "source": [
    "Agora que identificamos o perfil de tipo de trabalho que queremos, vamos filtrar apenas quem se encaixa no padrão"
   ]
  },
  {
   "cell_type": "markdown",
   "metadata": {},
   "source": [
    "### **5. Modelo Full-time**"
   ]
  },
  {
   "cell_type": "code",
   "execution_count": 15,
   "metadata": {},
   "outputs": [
    {
     "data": {
      "text/html": [
       "<div>\n",
       "<style scoped>\n",
       "    .dataframe tbody tr th:only-of-type {\n",
       "        vertical-align: middle;\n",
       "    }\n",
       "\n",
       "    .dataframe tbody tr th {\n",
       "        vertical-align: top;\n",
       "    }\n",
       "\n",
       "    .dataframe thead th {\n",
       "        text-align: right;\n",
       "    }\n",
       "</style>\n",
       "<table border=\"1\" class=\"dataframe\">\n",
       "  <thead>\n",
       "    <tr style=\"text-align: right;\">\n",
       "      <th></th>\n",
       "      <th>job_title</th>\n",
       "      <th>experience_level</th>\n",
       "      <th>employment_type</th>\n",
       "      <th>work_models</th>\n",
       "      <th>work_year</th>\n",
       "      <th>employee_residence</th>\n",
       "      <th>salary</th>\n",
       "      <th>salary_currency</th>\n",
       "      <th>salary_in_usd</th>\n",
       "      <th>company_location</th>\n",
       "      <th>company_size</th>\n",
       "    </tr>\n",
       "  </thead>\n",
       "  <tbody>\n",
       "    <tr>\n",
       "      <th>2</th>\n",
       "      <td>Data Scientist</td>\n",
       "      <td>Senior-level</td>\n",
       "      <td>Full-time</td>\n",
       "      <td>Remote</td>\n",
       "      <td>2024</td>\n",
       "      <td>United States</td>\n",
       "      <td>140032</td>\n",
       "      <td>USD</td>\n",
       "      <td>140032</td>\n",
       "      <td>United States</td>\n",
       "      <td>Medium</td>\n",
       "    </tr>\n",
       "    <tr>\n",
       "      <th>3</th>\n",
       "      <td>Data Scientist</td>\n",
       "      <td>Senior-level</td>\n",
       "      <td>Full-time</td>\n",
       "      <td>Remote</td>\n",
       "      <td>2024</td>\n",
       "      <td>United States</td>\n",
       "      <td>100022</td>\n",
       "      <td>USD</td>\n",
       "      <td>100022</td>\n",
       "      <td>United States</td>\n",
       "      <td>Medium</td>\n",
       "    </tr>\n",
       "    <tr>\n",
       "      <th>12</th>\n",
       "      <td>Data Scientist</td>\n",
       "      <td>Mid-level</td>\n",
       "      <td>Full-time</td>\n",
       "      <td>Remote</td>\n",
       "      <td>2024</td>\n",
       "      <td>United States</td>\n",
       "      <td>148100</td>\n",
       "      <td>USD</td>\n",
       "      <td>148100</td>\n",
       "      <td>United States</td>\n",
       "      <td>Medium</td>\n",
       "    </tr>\n",
       "    <tr>\n",
       "      <th>13</th>\n",
       "      <td>Data Scientist</td>\n",
       "      <td>Mid-level</td>\n",
       "      <td>Full-time</td>\n",
       "      <td>Remote</td>\n",
       "      <td>2024</td>\n",
       "      <td>United States</td>\n",
       "      <td>98700</td>\n",
       "      <td>USD</td>\n",
       "      <td>98700</td>\n",
       "      <td>United States</td>\n",
       "      <td>Medium</td>\n",
       "    </tr>\n",
       "    <tr>\n",
       "      <th>16</th>\n",
       "      <td>Data Scientist</td>\n",
       "      <td>Mid-level</td>\n",
       "      <td>Full-time</td>\n",
       "      <td>On-site</td>\n",
       "      <td>2024</td>\n",
       "      <td>United States</td>\n",
       "      <td>85000</td>\n",
       "      <td>USD</td>\n",
       "      <td>85000</td>\n",
       "      <td>United States</td>\n",
       "      <td>Medium</td>\n",
       "    </tr>\n",
       "    <tr>\n",
       "      <th>...</th>\n",
       "      <td>...</td>\n",
       "      <td>...</td>\n",
       "      <td>...</td>\n",
       "      <td>...</td>\n",
       "      <td>...</td>\n",
       "      <td>...</td>\n",
       "      <td>...</td>\n",
       "      <td>...</td>\n",
       "      <td>...</td>\n",
       "      <td>...</td>\n",
       "      <td>...</td>\n",
       "    </tr>\n",
       "    <tr>\n",
       "      <th>11072</th>\n",
       "      <td>Data Scientist</td>\n",
       "      <td>Mid-level</td>\n",
       "      <td>Full-time</td>\n",
       "      <td>Remote</td>\n",
       "      <td>2020</td>\n",
       "      <td>Spain</td>\n",
       "      <td>34000</td>\n",
       "      <td>EUR</td>\n",
       "      <td>38776</td>\n",
       "      <td>Spain</td>\n",
       "      <td>Medium</td>\n",
       "    </tr>\n",
       "    <tr>\n",
       "      <th>11075</th>\n",
       "      <td>Data Scientist</td>\n",
       "      <td>Entry-level</td>\n",
       "      <td>Full-time</td>\n",
       "      <td>On-site</td>\n",
       "      <td>2020</td>\n",
       "      <td>Germany</td>\n",
       "      <td>43200</td>\n",
       "      <td>EUR</td>\n",
       "      <td>49268</td>\n",
       "      <td>Germany</td>\n",
       "      <td>Small</td>\n",
       "    </tr>\n",
       "    <tr>\n",
       "      <th>11079</th>\n",
       "      <td>Data Scientist</td>\n",
       "      <td>Mid-level</td>\n",
       "      <td>Full-time</td>\n",
       "      <td>On-site</td>\n",
       "      <td>2020</td>\n",
       "      <td>Germany</td>\n",
       "      <td>70000</td>\n",
       "      <td>EUR</td>\n",
       "      <td>79833</td>\n",
       "      <td>Germany</td>\n",
       "      <td>Large</td>\n",
       "    </tr>\n",
       "    <tr>\n",
       "      <th>11080</th>\n",
       "      <td>Data Scientist</td>\n",
       "      <td>Entry-level</td>\n",
       "      <td>Full-time</td>\n",
       "      <td>Hybrid</td>\n",
       "      <td>2020</td>\n",
       "      <td>Germany</td>\n",
       "      <td>55000</td>\n",
       "      <td>EUR</td>\n",
       "      <td>62726</td>\n",
       "      <td>Germany</td>\n",
       "      <td>Small</td>\n",
       "    </tr>\n",
       "    <tr>\n",
       "      <th>11086</th>\n",
       "      <td>Data Scientist</td>\n",
       "      <td>Senior-level</td>\n",
       "      <td>Full-time</td>\n",
       "      <td>On-site</td>\n",
       "      <td>2020</td>\n",
       "      <td>Austria</td>\n",
       "      <td>80000</td>\n",
       "      <td>EUR</td>\n",
       "      <td>91237</td>\n",
       "      <td>Austria</td>\n",
       "      <td>Small</td>\n",
       "    </tr>\n",
       "  </tbody>\n",
       "</table>\n",
       "<p>2233 rows × 11 columns</p>\n",
       "</div>"
      ],
      "text/plain": [
       "            job_title experience_level employment_type work_models  work_year  \\\n",
       "2      Data Scientist     Senior-level       Full-time      Remote       2024   \n",
       "3      Data Scientist     Senior-level       Full-time      Remote       2024   \n",
       "12     Data Scientist        Mid-level       Full-time      Remote       2024   \n",
       "13     Data Scientist        Mid-level       Full-time      Remote       2024   \n",
       "16     Data Scientist        Mid-level       Full-time     On-site       2024   \n",
       "...               ...              ...             ...         ...        ...   \n",
       "11072  Data Scientist        Mid-level       Full-time      Remote       2020   \n",
       "11075  Data Scientist      Entry-level       Full-time     On-site       2020   \n",
       "11079  Data Scientist        Mid-level       Full-time     On-site       2020   \n",
       "11080  Data Scientist      Entry-level       Full-time      Hybrid       2020   \n",
       "11086  Data Scientist     Senior-level       Full-time     On-site       2020   \n",
       "\n",
       "      employee_residence  salary salary_currency  salary_in_usd  \\\n",
       "2          United States  140032             USD         140032   \n",
       "3          United States  100022             USD         100022   \n",
       "12         United States  148100             USD         148100   \n",
       "13         United States   98700             USD          98700   \n",
       "16         United States   85000             USD          85000   \n",
       "...                  ...     ...             ...            ...   \n",
       "11072              Spain   34000             EUR          38776   \n",
       "11075            Germany   43200             EUR          49268   \n",
       "11079            Germany   70000             EUR          79833   \n",
       "11080            Germany   55000             EUR          62726   \n",
       "11086            Austria   80000             EUR          91237   \n",
       "\n",
       "      company_location company_size  \n",
       "2        United States       Medium  \n",
       "3        United States       Medium  \n",
       "12       United States       Medium  \n",
       "13       United States       Medium  \n",
       "16       United States       Medium  \n",
       "...                ...          ...  \n",
       "11072            Spain       Medium  \n",
       "11075          Germany        Small  \n",
       "11079          Germany        Large  \n",
       "11080          Germany        Small  \n",
       "11086          Austria        Small  \n",
       "\n",
       "[2233 rows x 11 columns]"
      ]
     },
     "execution_count": 15,
     "metadata": {},
     "output_type": "execute_result"
    }
   ],
   "source": [
    "df_full_data = df_sem_outliers[df_sem_outliers['employment_type'] == 'Full-time']\n",
    "df_full_data"
   ]
  },
  {
   "cell_type": "code",
   "execution_count": 16,
   "metadata": {},
   "outputs": [
    {
     "data": {
      "text/html": [
       "<div>\n",
       "<style scoped>\n",
       "    .dataframe tbody tr th:only-of-type {\n",
       "        vertical-align: middle;\n",
       "    }\n",
       "\n",
       "    .dataframe tbody tr th {\n",
       "        vertical-align: top;\n",
       "    }\n",
       "\n",
       "    .dataframe thead tr th {\n",
       "        text-align: left;\n",
       "    }\n",
       "\n",
       "    .dataframe thead tr:last-of-type th {\n",
       "        text-align: right;\n",
       "    }\n",
       "</style>\n",
       "<table border=\"1\" class=\"dataframe\">\n",
       "  <thead>\n",
       "    <tr>\n",
       "      <th></th>\n",
       "      <th colspan=\"8\" halign=\"left\">salary_in_usd</th>\n",
       "    </tr>\n",
       "    <tr>\n",
       "      <th></th>\n",
       "      <th>count</th>\n",
       "      <th>mean</th>\n",
       "      <th>std</th>\n",
       "      <th>min</th>\n",
       "      <th>25%</th>\n",
       "      <th>50%</th>\n",
       "      <th>75%</th>\n",
       "      <th>max</th>\n",
       "    </tr>\n",
       "    <tr>\n",
       "      <th>employment_type</th>\n",
       "      <th></th>\n",
       "      <th></th>\n",
       "      <th></th>\n",
       "      <th></th>\n",
       "      <th></th>\n",
       "      <th></th>\n",
       "      <th></th>\n",
       "      <th></th>\n",
       "    </tr>\n",
       "  </thead>\n",
       "  <tbody>\n",
       "    <tr>\n",
       "      <th>Full-time</th>\n",
       "      <td>2233.0</td>\n",
       "      <td>151201.535602</td>\n",
       "      <td>55556.941071</td>\n",
       "      <td>16000.0</td>\n",
       "      <td>117400.0</td>\n",
       "      <td>150000.0</td>\n",
       "      <td>185900.0</td>\n",
       "      <td>296100.0</td>\n",
       "    </tr>\n",
       "  </tbody>\n",
       "</table>\n",
       "</div>"
      ],
      "text/plain": [
       "                salary_in_usd                                                  \\\n",
       "                        count           mean           std      min       25%   \n",
       "employment_type                                                                 \n",
       "Full-time              2233.0  151201.535602  55556.941071  16000.0  117400.0   \n",
       "\n",
       "                                               \n",
       "                      50%       75%       max  \n",
       "employment_type                                \n",
       "Full-time        150000.0  185900.0  296100.0  "
      ]
     },
     "execution_count": 16,
     "metadata": {},
     "output_type": "execute_result"
    }
   ],
   "source": [
    "# Agrupando os dados de tipo de trabalho e salário\n",
    "df_full_data.groupby('employment_type')[['salary_in_usd']].describe()"
   ]
  },
  {
   "cell_type": "code",
   "execution_count": 17,
   "metadata": {},
   "outputs": [
    {
     "data": {
      "image/png": "[encoded data removed]",
      "text/plain": [
       "<Figure size 640x480 with 1 Axes>"
      ]
     },
     "metadata": {},
     "output_type": "display_data"
    }
   ],
   "source": [
    "# Agora temos o boxplot com os dados ajustados para verificar se ainda há algum outlier nos nossos dados\n",
    "df_full_data[['salary_in_usd']].plot(kind='box');"
   ]
  },
  {
   "cell_type": "markdown",
   "metadata": {},
   "source": [
    "### **6. Análise Multivariada**\n",
    "\n",
    "Correlações entre variáveis contínuas com `df.corr()`:"
   ]
  },
  {
   "cell_type": "code",
   "execution_count": 18,
   "metadata": {},
   "outputs": [
    {
     "data": {
      "text/html": [
       "<div>\n",
       "<style scoped>\n",
       "    .dataframe tbody tr th:only-of-type {\n",
       "        vertical-align: middle;\n",
       "    }\n",
       "\n",
       "    .dataframe tbody tr th {\n",
       "        vertical-align: top;\n",
       "    }\n",
       "\n",
       "    .dataframe thead th {\n",
       "        text-align: right;\n",
       "    }\n",
       "</style>\n",
       "<table border=\"1\" class=\"dataframe\">\n",
       "  <thead>\n",
       "    <tr style=\"text-align: right;\">\n",
       "      <th></th>\n",
       "      <th>work_year</th>\n",
       "      <th>salary</th>\n",
       "      <th>salary_in_usd</th>\n",
       "    </tr>\n",
       "  </thead>\n",
       "  <tbody>\n",
       "    <tr>\n",
       "      <th>work_year</th>\n",
       "      <td>1.000000</td>\n",
       "      <td>-0.122524</td>\n",
       "      <td>0.207138</td>\n",
       "    </tr>\n",
       "    <tr>\n",
       "      <th>salary</th>\n",
       "      <td>-0.122524</td>\n",
       "      <td>1.000000</td>\n",
       "      <td>-0.023928</td>\n",
       "    </tr>\n",
       "    <tr>\n",
       "      <th>salary_in_usd</th>\n",
       "      <td>0.207138</td>\n",
       "      <td>-0.023928</td>\n",
       "      <td>1.000000</td>\n",
       "    </tr>\n",
       "  </tbody>\n",
       "</table>\n",
       "</div>"
      ],
      "text/plain": [
       "               work_year    salary  salary_in_usd\n",
       "work_year       1.000000 -0.122524       0.207138\n",
       "salary         -0.122524  1.000000      -0.023928\n",
       "salary_in_usd   0.207138 -0.023928       1.000000"
      ]
     },
     "execution_count": 18,
     "metadata": {},
     "output_type": "execute_result"
    }
   ],
   "source": [
    "# Aqui vamos que se seu df possuir poucos valores numéricos, o corr() não terá uma boa relevância\n",
    "df_full_data.corr(numeric_only=True)"
   ]
  },
  {
   "cell_type": "markdown",
   "metadata": {},
   "source": [
    "Análises de agrupamento, como média de salário por experiência ou localização, usando `df.groupby()`:"
   ]
  },
  {
   "cell_type": "code",
   "execution_count": 19,
   "metadata": {},
   "outputs": [
    {
     "data": {
      "text/html": [
       "<div>\n",
       "<style scoped>\n",
       "    .dataframe tbody tr th:only-of-type {\n",
       "        vertical-align: middle;\n",
       "    }\n",
       "\n",
       "    .dataframe tbody tr th {\n",
       "        vertical-align: top;\n",
       "    }\n",
       "\n",
       "    .dataframe thead th {\n",
       "        text-align: right;\n",
       "    }\n",
       "</style>\n",
       "<table border=\"1\" class=\"dataframe\">\n",
       "  <thead>\n",
       "    <tr style=\"text-align: right;\">\n",
       "      <th></th>\n",
       "      <th>salary_in_usd</th>\n",
       "    </tr>\n",
       "    <tr>\n",
       "      <th>experience_level</th>\n",
       "      <th></th>\n",
       "    </tr>\n",
       "  </thead>\n",
       "  <tbody>\n",
       "    <tr>\n",
       "      <th>Entry-level</th>\n",
       "      <td>85773.673077</td>\n",
       "    </tr>\n",
       "    <tr>\n",
       "      <th>Mid-level</th>\n",
       "      <td>117136.290541</td>\n",
       "    </tr>\n",
       "    <tr>\n",
       "      <th>Senior-level</th>\n",
       "      <td>163916.714631</td>\n",
       "    </tr>\n",
       "    <tr>\n",
       "      <th>Executive-level</th>\n",
       "      <td>180187.354839</td>\n",
       "    </tr>\n",
       "  </tbody>\n",
       "</table>\n",
       "</div>"
      ],
      "text/plain": [
       "                  salary_in_usd\n",
       "experience_level               \n",
       "Entry-level        85773.673077\n",
       "Mid-level         117136.290541\n",
       "Senior-level      163916.714631\n",
       "Executive-level   180187.354839"
      ]
     },
     "execution_count": 19,
     "metadata": {},
     "output_type": "execute_result"
    }
   ],
   "source": [
    "# Verificando a média salariál por nível de experiência\n",
    "df_full_data.groupby('experience_level')[['salary_in_usd']].mean().sort_values(by='salary_in_usd', ascending=True)"
   ]
  },
  {
   "cell_type": "markdown",
   "metadata": {},
   "source": [
    "Agora podemos visualizar a variação salarial de acordo com o nível de experiência:"
   ]
  },
  {
   "cell_type": "code",
   "execution_count": 20,
   "metadata": {},
   "outputs": [
    {
     "name": "stderr",
     "output_type": "stream",
     "text": [
      "C:\\Users\\letic\\AppData\\Local\\Temp\\ipykernel_15700\\1145355525.py:3: SettingWithCopyWarning: \n",
      "A value is trying to be set on a copy of a slice from a DataFrame.\n",
      "Try using .loc[row_indexer,col_indexer] = value instead\n",
      "\n",
      "See the caveats in the documentation: https://pandas.pydata.org/pandas-docs/stable/user_guide/indexing.html#returning-a-view-versus-a-copy\n",
      "  df_full_data['experience_level'] = pd.Categorical(df_full_data['experience_level'], categories=experience_order, ordered=True)\n"
     ]
    },
    {
     "data": {
      "image/png": "[encoded data removed]",
      "text/plain": [
       "<Figure size 1200x600 with 1 Axes>"
      ]
     },
     "metadata": {},
     "output_type": "display_data"
    }
   ],
   "source": [
    "experience_order = ['Entry-level', 'Mid-level', 'Senior-level', 'Executive-level']\n",
    "\n",
    "df_full_data['experience_level'] = pd.Categorical(df_full_data['experience_level'], categories=experience_order, ordered=True)\n",
    "\n",
    "plt.figure(figsize=(12, 6))\n",
    "sns.lineplot(x='experience_level', y='salary_in_usd', data=df_full_data)\n",
    "plt.title('Variação Salarial por Nível de Experiência')\n",
    "plt.xlabel('Nível de Experiência')\n",
    "plt.ylabel('Salário em USD')\n",
    "plt.show()"
   ]
  },
  {
   "cell_type": "markdown",
   "metadata": {},
   "source": [
    " 6.1 Agora vamos verificar a correlação entre os países onde o funcionario está localizado e o salários:\n",
    " "
   ]
  },
  {
   "cell_type": "code",
   "execution_count": 21,
   "metadata": {},
   "outputs": [
    {
     "name": "stderr",
     "output_type": "stream",
     "text": [
      "C:\\Users\\letic\\AppData\\Local\\Temp\\ipykernel_15700\\3012591366.py:41: SettingWithCopyWarning: \n",
      "A value is trying to be set on a copy of a slice from a DataFrame.\n",
      "Try using .loc[row_indexer,col_indexer] = value instead\n",
      "\n",
      "See the caveats in the documentation: https://pandas.pydata.org/pandas-docs/stable/user_guide/indexing.html#returning-a-view-versus-a-copy\n",
      "  df_full_data['continent'] = df_full_data['employee_residence'].map(country_to_continent)\n"
     ]
    },
    {
     "data": {
      "text/html": [
       "<div>\n",
       "<style scoped>\n",
       "    .dataframe tbody tr th:only-of-type {\n",
       "        vertical-align: middle;\n",
       "    }\n",
       "\n",
       "    .dataframe tbody tr th {\n",
       "        vertical-align: top;\n",
       "    }\n",
       "\n",
       "    .dataframe thead th {\n",
       "        text-align: right;\n",
       "    }\n",
       "</style>\n",
       "<table border=\"1\" class=\"dataframe\">\n",
       "  <thead>\n",
       "    <tr style=\"text-align: right;\">\n",
       "      <th></th>\n",
       "      <th>salary_in_usd</th>\n",
       "    </tr>\n",
       "    <tr>\n",
       "      <th>continent</th>\n",
       "      <th></th>\n",
       "    </tr>\n",
       "  </thead>\n",
       "  <tbody>\n",
       "    <tr>\n",
       "      <th>North America</th>\n",
       "      <td>160591.387437</td>\n",
       "    </tr>\n",
       "    <tr>\n",
       "      <th>Oceania</th>\n",
       "      <td>132616.875000</td>\n",
       "    </tr>\n",
       "    <tr>\n",
       "      <th>Europe</th>\n",
       "      <td>76852.717073</td>\n",
       "    </tr>\n",
       "    <tr>\n",
       "      <th>South America</th>\n",
       "      <td>52324.666667</td>\n",
       "    </tr>\n",
       "    <tr>\n",
       "      <th>Africa</th>\n",
       "      <td>50000.000000</td>\n",
       "    </tr>\n",
       "    <tr>\n",
       "      <th>Asia</th>\n",
       "      <td>38107.739130</td>\n",
       "    </tr>\n",
       "  </tbody>\n",
       "</table>\n",
       "</div>"
      ],
      "text/plain": [
       "               salary_in_usd\n",
       "continent                   \n",
       "North America  160591.387437\n",
       "Oceania        132616.875000\n",
       "Europe          76852.717073\n",
       "South America   52324.666667\n",
       "Africa          50000.000000\n",
       "Asia            38107.739130"
      ]
     },
     "execution_count": 21,
     "metadata": {},
     "output_type": "execute_result"
    }
   ],
   "source": [
    "country_to_continent = {\n",
    "    'New Zealand': 'Oceania',\n",
    "    'United States': 'North America',\n",
    "    'Canada': 'North America',\n",
    "    'Australia': 'Oceania',\n",
    "    'Switzerland': 'Europe',\n",
    "    'Singapore': 'Asia',\n",
    "    'Ireland': 'Europe',\n",
    "    'United Kingdom': 'Europe',\n",
    "    'Norway': 'Europe',\n",
    "    'Netherlands': 'Europe',\n",
    "    'Austria': 'Europe',\n",
    "    'Portugal': 'Europe',\n",
    "    'Germany': 'Europe',\n",
    "    'Belgium': 'Europe',\n",
    "    'Hong Kong': 'Asia',\n",
    "    'Brazil': 'South America',\n",
    "    'Cyprus': 'Europe',\n",
    "    'Latvia': 'Europe',\n",
    "    'France': 'Europe',\n",
    "    'Romania': 'Europe',\n",
    "    'Andorra': 'Europe',\n",
    "    'Nigeria': 'Africa',\n",
    "    'Russia': 'Europe',\n",
    "    'Philippines': 'Asia',\n",
    "    'Spain': 'Europe',\n",
    "    'Greece': 'Europe',\n",
    "    'Chile': 'South America',\n",
    "    'Uzbekistan': 'Asia',\n",
    "    'Japan': 'Asia',\n",
    "    'Poland': 'Europe',\n",
    "    'India': 'Asia',\n",
    "    'Mexico': 'North America',\n",
    "    'Hungary': 'Europe',\n",
    "    'Turkey': 'Asia',\n",
    "    'Italy': 'Europe',\n",
    "    'Serbia': 'Europe',\n",
    "    'Thailand': 'Asia',\n",
    "    'Ecuador': 'South America'\n",
    "}\n",
    "df_full_data['continent'] = df_full_data['employee_residence'].map(country_to_continent)\n",
    "\n",
    "# Agrupando por continente e calculando a média do salário\n",
    "average_salary_by_continent = df_full_data.groupby('continent')[['salary_in_usd']].mean().sort_values(by='salary_in_usd', ascending=False)\n",
    "\n",
    "average_salary_by_continent"
   ]
  },
  {
   "cell_type": "markdown",
   "metadata": {},
   "source": [
    "### **7. Conclusões e Próximos Passos**\n",
    "\n"
   ]
  },
  {
   "cell_type": "markdown",
   "metadata": {},
   "source": [
    "Verificando a quantidade de Cientistas de Dados disponíveis em cada continente:"
   ]
  },
  {
   "cell_type": "code",
   "execution_count": 22,
   "metadata": {},
   "outputs": [
    {
     "data": {
      "text/plain": [
       "continent\n",
       "North America    1990\n",
       "Europe            205\n",
       "Asia               23\n",
       "Oceania             8\n",
       "South America       6\n",
       "Africa              1\n",
       "Name: count, dtype: int64"
      ]
     },
     "execution_count": 22,
     "metadata": {},
     "output_type": "execute_result"
    }
   ],
   "source": [
    "df_full_data['continent'].value_counts()"
   ]
  },
  {
   "cell_type": "markdown",
   "metadata": {},
   "source": [
    "Verificando a quantidade de Cientistas de Dados disponíveis em cada continente, agrupados por experiência:"
   ]
  },
  {
   "cell_type": "code",
   "execution_count": 42,
   "metadata": {},
   "outputs": [
    {
     "data": {
      "text/html": [
       "<div>\n",
       "<style scoped>\n",
       "    .dataframe tbody tr th:only-of-type {\n",
       "        vertical-align: middle;\n",
       "    }\n",
       "\n",
       "    .dataframe tbody tr th {\n",
       "        vertical-align: top;\n",
       "    }\n",
       "\n",
       "    .dataframe thead th {\n",
       "        text-align: right;\n",
       "    }\n",
       "</style>\n",
       "<table border=\"1\" class=\"dataframe\">\n",
       "  <thead>\n",
       "    <tr style=\"text-align: right;\">\n",
       "      <th></th>\n",
       "      <th>continent</th>\n",
       "      <th>experience_level</th>\n",
       "      <th>count</th>\n",
       "    </tr>\n",
       "  </thead>\n",
       "  <tbody>\n",
       "    <tr>\n",
       "      <th>0</th>\n",
       "      <td>Africa</td>\n",
       "      <td>Entry-level</td>\n",
       "      <td>0</td>\n",
       "    </tr>\n",
       "    <tr>\n",
       "      <th>1</th>\n",
       "      <td>Africa</td>\n",
       "      <td>Mid-level</td>\n",
       "      <td>1</td>\n",
       "    </tr>\n",
       "    <tr>\n",
       "      <th>2</th>\n",
       "      <td>Africa</td>\n",
       "      <td>Senior-level</td>\n",
       "      <td>0</td>\n",
       "    </tr>\n",
       "    <tr>\n",
       "      <th>3</th>\n",
       "      <td>Africa</td>\n",
       "      <td>Executive-level</td>\n",
       "      <td>0</td>\n",
       "    </tr>\n",
       "    <tr>\n",
       "      <th>4</th>\n",
       "      <td>Asia</td>\n",
       "      <td>Entry-level</td>\n",
       "      <td>8</td>\n",
       "    </tr>\n",
       "    <tr>\n",
       "      <th>5</th>\n",
       "      <td>Asia</td>\n",
       "      <td>Mid-level</td>\n",
       "      <td>13</td>\n",
       "    </tr>\n",
       "    <tr>\n",
       "      <th>6</th>\n",
       "      <td>Asia</td>\n",
       "      <td>Senior-level</td>\n",
       "      <td>2</td>\n",
       "    </tr>\n",
       "    <tr>\n",
       "      <th>7</th>\n",
       "      <td>Asia</td>\n",
       "      <td>Executive-level</td>\n",
       "      <td>0</td>\n",
       "    </tr>\n",
       "    <tr>\n",
       "      <th>8</th>\n",
       "      <td>Europe</td>\n",
       "      <td>Entry-level</td>\n",
       "      <td>22</td>\n",
       "    </tr>\n",
       "    <tr>\n",
       "      <th>9</th>\n",
       "      <td>Europe</td>\n",
       "      <td>Mid-level</td>\n",
       "      <td>94</td>\n",
       "    </tr>\n",
       "    <tr>\n",
       "      <th>10</th>\n",
       "      <td>Europe</td>\n",
       "      <td>Senior-level</td>\n",
       "      <td>84</td>\n",
       "    </tr>\n",
       "    <tr>\n",
       "      <th>11</th>\n",
       "      <td>Europe</td>\n",
       "      <td>Executive-level</td>\n",
       "      <td>5</td>\n",
       "    </tr>\n",
       "    <tr>\n",
       "      <th>12</th>\n",
       "      <td>North America</td>\n",
       "      <td>Entry-level</td>\n",
       "      <td>71</td>\n",
       "    </tr>\n",
       "    <tr>\n",
       "      <th>13</th>\n",
       "      <td>North America</td>\n",
       "      <td>Mid-level</td>\n",
       "      <td>330</td>\n",
       "    </tr>\n",
       "    <tr>\n",
       "      <th>14</th>\n",
       "      <td>North America</td>\n",
       "      <td>Senior-level</td>\n",
       "      <td>1563</td>\n",
       "    </tr>\n",
       "    <tr>\n",
       "      <th>15</th>\n",
       "      <td>North America</td>\n",
       "      <td>Executive-level</td>\n",
       "      <td>26</td>\n",
       "    </tr>\n",
       "    <tr>\n",
       "      <th>16</th>\n",
       "      <td>Oceania</td>\n",
       "      <td>Entry-level</td>\n",
       "      <td>1</td>\n",
       "    </tr>\n",
       "    <tr>\n",
       "      <th>17</th>\n",
       "      <td>Oceania</td>\n",
       "      <td>Mid-level</td>\n",
       "      <td>3</td>\n",
       "    </tr>\n",
       "    <tr>\n",
       "      <th>18</th>\n",
       "      <td>Oceania</td>\n",
       "      <td>Senior-level</td>\n",
       "      <td>4</td>\n",
       "    </tr>\n",
       "    <tr>\n",
       "      <th>19</th>\n",
       "      <td>Oceania</td>\n",
       "      <td>Executive-level</td>\n",
       "      <td>0</td>\n",
       "    </tr>\n",
       "    <tr>\n",
       "      <th>20</th>\n",
       "      <td>South America</td>\n",
       "      <td>Entry-level</td>\n",
       "      <td>2</td>\n",
       "    </tr>\n",
       "    <tr>\n",
       "      <th>21</th>\n",
       "      <td>South America</td>\n",
       "      <td>Mid-level</td>\n",
       "      <td>3</td>\n",
       "    </tr>\n",
       "    <tr>\n",
       "      <th>22</th>\n",
       "      <td>South America</td>\n",
       "      <td>Senior-level</td>\n",
       "      <td>1</td>\n",
       "    </tr>\n",
       "    <tr>\n",
       "      <th>23</th>\n",
       "      <td>South America</td>\n",
       "      <td>Executive-level</td>\n",
       "      <td>0</td>\n",
       "    </tr>\n",
       "  </tbody>\n",
       "</table>\n",
       "</div>"
      ],
      "text/plain": [
       "        continent experience_level  count\n",
       "0          Africa      Entry-level      0\n",
       "1          Africa        Mid-level      1\n",
       "2          Africa     Senior-level      0\n",
       "3          Africa  Executive-level      0\n",
       "4            Asia      Entry-level      8\n",
       "5            Asia        Mid-level     13\n",
       "6            Asia     Senior-level      2\n",
       "7            Asia  Executive-level      0\n",
       "8          Europe      Entry-level     22\n",
       "9          Europe        Mid-level     94\n",
       "10         Europe     Senior-level     84\n",
       "11         Europe  Executive-level      5\n",
       "12  North America      Entry-level     71\n",
       "13  North America        Mid-level    330\n",
       "14  North America     Senior-level   1563\n",
       "15  North America  Executive-level     26\n",
       "16        Oceania      Entry-level      1\n",
       "17        Oceania        Mid-level      3\n",
       "18        Oceania     Senior-level      4\n",
       "19        Oceania  Executive-level      0\n",
       "20  South America      Entry-level      2\n",
       "21  South America        Mid-level      3\n",
       "22  South America     Senior-level      1\n",
       "23  South America  Executive-level      0"
      ]
     },
     "execution_count": 42,
     "metadata": {},
     "output_type": "execute_result"
    }
   ],
   "source": [
    "df_full_data.groupby(['continent', 'experience_level'], observed=False).size().reset_index(name='count')"
   ]
  },
  {
   "cell_type": "markdown",
   "metadata": {},
   "source": [
    "### **Salário custo benefício**: Data Scientist Mid-Level"
   ]
  },
  {
   "cell_type": "markdown",
   "metadata": {},
   "source": [

    "Após verificar a quantidade de Cientistas de Dados disponíveis em cada continente, agrupados por experiência, verifica-se que :\n",
    "- O nível de experiência que contém uma quantidade de dados significativa para a análise de melhor custo benefício para contratação seria o \"Mid-level\". Isso porque  possui uma contagem razoável distribuídas nos continentes (13 na Ásia, 94 na Europa, 330 na América do Norte) além de possuir maior equilíbrio em relação aos níveis mais baixos (Entry-level) e mais altos (Senior-level e Executive-level).\n",
    "- O funcionário de nível pleno de melhor custo/benefício está localizado na Ásia. \n"

   ]
  },
  {
   "cell_type": "code",
   "execution_count": 39,
   "metadata": {},
   "outputs": [
    {
     "data": {
      "text/html": [
       "<div>\n",
       "<style scoped>\n",
       "    .dataframe tbody tr th:only-of-type {\n",
       "        vertical-align: middle;\n",
       "    }\n",
       "\n",
       "    .dataframe tbody tr th {\n",
       "        vertical-align: top;\n",
       "    }\n",
       "\n",
       "    .dataframe thead th {\n",
       "        text-align: right;\n",
       "    }\n",
       "</style>\n",
       "<table border=\"1\" class=\"dataframe\">\n",
       "  <thead>\n",
       "    <tr style=\"text-align: right;\">\n",
       "      <th>experience_level</th>\n",
       "      <th>Entry-level</th>\n",
       "      <th>Mid-level</th>\n",
       "      <th>Senior-level</th>\n",
       "      <th>Executive-level</th>\n",
       "    </tr>\n",
       "    <tr>\n",
       "      <th>continent</th>\n",
       "      <th></th>\n",
       "      <th></th>\n",
       "      <th></th>\n",
       "      <th></th>\n",
       "    </tr>\n",
       "  </thead>\n",
       "  <tbody>\n",
       "    <tr>\n",
       "      <th>North America</th>\n",
       "      <td>103162.309859</td>\n",
       "      <td>133078.512121</td>\n",
       "      <td>168648.642354</td>\n",
       "      <td>182253.846154</td>\n",
       "    </tr>\n",
       "    <tr>\n",
       "      <th>Oceania</th>\n",
       "      <td>83171.000000</td>\n",
       "      <td>99887.000000</td>\n",
       "      <td>169525.750000</td>\n",
       "      <td>NaN</td>\n",
       "    </tr>\n",
       "    <tr>\n",
       "      <th>Europe</th>\n",
       "      <td>55140.272727</td>\n",
       "      <td>74749.606383</td>\n",
       "      <td>79381.547619</td>\n",
       "      <td>169441.600000</td>\n",
       "    </tr>\n",
       "    <tr>\n",
       "      <th>South America</th>\n",
       "      <td>17955.000000</td>\n",
       "      <td>59346.000000</td>\n",
       "      <td>100000.000000</td>\n",
       "      <td>NaN</td>\n",
       "    </tr>\n",
       "    <tr>\n",
       "      <th>Africa</th>\n",
       "      <td>NaN</td>\n",
       "      <td>50000.000000</td>\n",
       "      <td>NaN</td>\n",
       "      <td>NaN</td>\n",
       "    </tr>\n",
       "    <tr>\n",
       "      <th>Asia</th>\n",
       "      <td>32971.375000</td>\n",
       "      <td>41418.615385</td>\n",
       "      <td>37132.500000</td>\n",
       "      <td>NaN</td>\n",
       "    </tr>\n",
       "  </tbody>\n",
       "</table>\n",
       "</div>"
      ],
      "text/plain": [
       "experience_level    Entry-level      Mid-level   Senior-level  Executive-level\n",
       "continent                                                                     \n",
       "North America     103162.309859  133078.512121  168648.642354    182253.846154\n",
       "Oceania            83171.000000   99887.000000  169525.750000              NaN\n",
       "Europe             55140.272727   74749.606383   79381.547619    169441.600000\n",
       "South America      17955.000000   59346.000000  100000.000000              NaN\n",
       "Africa                      NaN   50000.000000            NaN              NaN\n",
       "Asia               32971.375000   41418.615385   37132.500000              NaN"
      ]
     },
     "execution_count": 39,
     "metadata": {},
     "output_type": "execute_result"
    }
   ],
   "source": [
    "# filtrando por região e experiência para encontrar um cientista pleno com o melhor custo/benefício\n",
    "df_custo_beneficio = df_full_data.pivot_table(index='continent', columns='experience_level', values='salary_in_usd', aggfunc='mean')\n",
    "df_custo_beneficio.sort_values(by='Mid-level', ascending=False)\n"
   ]
  },
  {
   "cell_type": "code",
   "execution_count": 40,
   "metadata": {},
   "outputs": [
    {
     "data": {
      "text/plain": [
       "continent\n",
       "Africa            50000.000000\n",
       "Asia              41418.615385\n",
       "Europe            74749.606383\n",
       "North America    133078.512121\n",
       "Oceania           99887.000000\n",
       "South America     59346.000000\n",
       "Name: Mid-level, dtype: float64"
      ]
     },
     "execution_count": 40,
     "metadata": {},
     "output_type": "execute_result"
    }
   ],
   "source": [
    "df_custo_beneficio['Mid-level']"
   ]
  },
  {
   "cell_type": "markdown",
   "metadata": {},
   "source": [

    "\n",
    "### **Análise salarial**: outros fatores envolvidos\n",

    "\n",
    "Ao analisar o salário de Cientista de Dados, importante considerar diversos fatores para obter uma compreensão abrangente da situação para obter um resultado mais preciso. Dessa forma, embora a pesquisa de dados salariais seja fundamental, além de converter os salários para uma moeda comum, necessário ainda a coleta de dados e inclusão de variáveis adicionais tendo em vista:\n",
    "- Custo de vida em cada local;\n",
    "- Benefícios adicionais ofericidos além dos salários;\n",
    "- Implicações fiscais em cada região em relação ao salário;\n",
    "- Avaliação de plano de carreira e oportunidades de avanço profissional;\n",
    "- Condições de trabalho como carga horária e cultura corporativa;\n",

    "- Indicadores econômicos de cada país ou região como taxa de desemprego, inflação e crescimento econômico. \n"
   ]
  }
 ],
 "metadata": {
  "kernelspec": {
   "display_name": "Python 3 (ipykernel)",
   "language": "python",
   "name": "python3"
  },
  "language_info": {
   "codemirror_mode": {
    "name": "ipython",
    "version": 3
   },
   "file_extension": ".py",
   "mimetype": "text/x-python",
   "name": "python",
   "nbconvert_exporter": "python",
   "pygments_lexer": "ipython3",
   "version": "3.11.4"
  }
 },
 "nbformat": 4,
 "nbformat_minor": 2
}
